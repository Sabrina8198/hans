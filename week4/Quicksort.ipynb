{
 "cells": [
  {
   "cell_type": "code",
   "execution_count": 1,
   "metadata": {},
   "outputs": [],
   "source": [
    "def quicksort(mylist):\n",
    "    left = []\n",
    "    right = []\n",
    "\n",
    "    if len(mylist) <= 1:\n",
    "        return mylist\n",
    "\n",
    "    else:\n",
    "        pivot = mylist[0] #設第一個數為pivot基準\n",
    "        for i in mylist:\n",
    "            if i < pivot: #比基準小的數\n",
    "                left.append(i)\n",
    "            elif i > pivot: #比基準大的數\n",
    "                right.append(i)\n",
    "\n",
    "    left = quicksort(left)\n",
    "    right = quicksort(right)\n",
    "    return left + [pivot] + right"
   ]
  },
  {
   "cell_type": "code",
   "execution_count": 2,
   "metadata": {},
   "outputs": [],
   "source": [
    "list = [5, -2, 6, -8, -4, 9, 3, 0, 7, -5]"
   ]
  },
  {
   "cell_type": "code",
   "execution_count": 3,
   "metadata": {},
   "outputs": [],
   "source": [
    "result = quicksort(list)"
   ]
  },
  {
   "cell_type": "code",
   "execution_count": 4,
   "metadata": {},
   "outputs": [
    {
     "name": "stdout",
     "output_type": "stream",
     "text": [
      "BeforeQuickSort :  [5, -2, 6, -8, -4, 9, 3, 0, 7, -5]\n"
     ]
    }
   ],
   "source": [
    "print('BeforeQuickSort : ' ,list)"
   ]
  },
  {
   "cell_type": "code",
   "execution_count": 5,
   "metadata": {},
   "outputs": [
    {
     "name": "stdout",
     "output_type": "stream",
     "text": [
      "AfterQuickSort :  [-8, -5, -4, -2, 0, 3, 5, 6, 7, 9]\n"
     ]
    }
   ],
   "source": [
    "print('AfterQuickSort : ' ,result)"
   ]
  },
  {
   "cell_type": "code",
   "execution_count": null,
   "metadata": {},
   "outputs": [],
   "source": []
  }
 ],
 "metadata": {
  "kernelspec": {
   "display_name": "Python 3",
   "language": "python",
   "name": "python3"
  },
  "language_info": {
   "codemirror_mode": {
    "name": "ipython",
    "version": 3
   },
   "file_extension": ".py",
   "mimetype": "text/x-python",
   "name": "python",
   "nbconvert_exporter": "python",
   "pygments_lexer": "ipython3",
   "version": "3.7.1"
  }
 },
 "nbformat": 4,
 "nbformat_minor": 2
}
