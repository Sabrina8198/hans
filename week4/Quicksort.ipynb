{
 "cells": [
    {
   "cell_type": "markdown",
   "metadata": {},
   "source": [
    "QuickSort(快速排序法):在數列中任意挑選一個數，稱為pivot，然後調整數列，使得「所有在pivot左邊的數，都比pivot還小」，而「在pivot右邊的數都比pivot大」，接著將所有在pivot左邊的數視為「新的數列」，所有在pivot右邊的數視為「另一個新的數列」，「分別」重複上述步驟(選pivot、調整數列)，直到分不出「新的數列」為止。"
   ]
  },
  {
   "cell_type": "code",
   "execution_count": 1,
   "metadata": {},
   "outputs": [],
   "source": [
    "def quicksort(mylist):\n",
    "    left = []\n",
    "    right = []\n",
    "\n",
    "    if len(mylist) <= 1:\n",
    "        return mylist\n",
    "\n",
    "    else:\n",
    "        pivot = mylist[0] #設第一個數為pivot基準\n",
    "        for i in mylist:\n",
    "            if i < pivot: #比基準小的數\n",
    "                left.append(i)\n",
    "            elif i > pivot: #比基準大的數\n",
    "                right.append(i)\n",
    "\n",
    "    left = quicksort(left)\n",
    "    right = quicksort(right)\n",
    "    return left + [pivot] + right"
   ]
  },
  {
   "cell_type": "markdown",
   "metadata": {},
   "source": [
    "設定left放置比基準小的數，right放比基準大的數。如果長度<=1的話，就不需要排列，可以直接回傳。比基準小，把i增加在左邊；比基準大，把i增加在右邊。最後將兩邊都用QuickSort排列，最後回傳左邊排完+基準+右邊排完"
   ]
  },
  {
   "cell_type": "code",
   "execution_count": 2,
   "metadata": {},
   "outputs": [],
   "source": [
    "list = [5, -2, 6, -8, -4, 9, 3, 0, 7, -5]"
   ]
  },
  {
   "cell_type": "markdown",
   "metadata": {},
   "source": [
    "隨意建立一個list，用來測試quicksort程式碼是否可執行"
   ]
  },
  {
   "cell_type": "code",
   "execution_count": 3,
   "metadata": {},
   "outputs": [],
   "source": [
    "result = quicksort(list)"
   ]
  },
  {
   "cell_type": "markdown",
   "metadata": {},
   "source": [
    "設result為快速排列後的結果"
   ]
  },
  {
   "cell_type": "code",
   "execution_count": 4,
   "metadata": {},
   "outputs": [
    {
     "name": "stdout",
     "output_type": "stream",
     "text": [
      "BeforeQuickSort :  [5, -2, 6, -8, -4, 9, 3, 0, 7, -5]\n"
     ]
    }
   ],
   "source": [
    "print('BeforeQuickSort : ' ,list)"
   ]
  },
  {
   "cell_type": "markdown",
   "metadata": {},
   "source": [
    "印出排列前結果"
   ]
  },
  {
   "cell_type": "code",
   "execution_count": 5,
   "metadata": {},
   "outputs": [
    {
     "name": "stdout",
     "output_type": "stream",
     "text": [
      "AfterQuickSort :  [-8, -5, -4, -2, 0, 3, 5, 6, 7, 9]\n"
     ]
    }
   ],
   "source": [
    "print('AfterQuickSort : ' ,result)"
   ]
  },
  {
   "cell_type": "markdown",
   "metadata": {},
   "source": [
    "印出排列後結果"
   ]
  },
  {
   "cell_type": "code",
   "execution_count": null,
   "metadata": {},
   "outputs": [],
   "source": []
  }
 ],
 "metadata": {
  "kernelspec": {
   "display_name": "Python 3",
   "language": "python",
   "name": "python3"
  },
  "language_info": {
   "codemirror_mode": {
    "name": "ipython",
    "version": 3
   },
   "file_extension": ".py",
   "mimetype": "text/x-python",
   "name": "python",
   "nbconvert_exporter": "python",
   "pygments_lexer": "ipython3",
   "version": "3.7.1"
  }
 },
 "nbformat": 4,
 "nbformat_minor": 2
}
